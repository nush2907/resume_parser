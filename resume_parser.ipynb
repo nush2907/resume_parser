{
 "cells": [
  {
   "cell_type": "code",
   "execution_count": 1,
   "id": "687e0295-c390-4cd2-9d12-e338be529257",
   "metadata": {},
   "outputs": [
    {
     "name": "stdout",
     "output_type": "stream",
     "text": [
      "Collecting PyPDF2\n",
      "  Downloading pypdf2-3.0.1-py3-none-any.whl.metadata (6.8 kB)\n",
      "Requirement already satisfied: nltk in /opt/homebrew/lib/python3.11/site-packages (3.8.1)\n",
      "Requirement already satisfied: requests in /opt/homebrew/lib/python3.11/site-packages (2.31.0)\n",
      "Requirement already satisfied: click in /opt/homebrew/lib/python3.11/site-packages (from nltk) (8.1.3)\n",
      "Requirement already satisfied: joblib in /opt/homebrew/lib/python3.11/site-packages (from nltk) (1.2.0)\n",
      "Requirement already satisfied: regex>=2021.8.3 in /opt/homebrew/lib/python3.11/site-packages (from nltk) (2023.6.3)\n",
      "Requirement already satisfied: tqdm in /opt/homebrew/lib/python3.11/site-packages (from nltk) (4.65.0)\n",
      "Requirement already satisfied: charset-normalizer<4,>=2 in /opt/homebrew/lib/python3.11/site-packages (from requests) (3.1.0)\n",
      "Requirement already satisfied: idna<4,>=2.5 in /opt/homebrew/lib/python3.11/site-packages (from requests) (3.4)\n",
      "Requirement already satisfied: urllib3<3,>=1.21.1 in /opt/homebrew/lib/python3.11/site-packages (from requests) (2.0.3)\n",
      "Requirement already satisfied: certifi>=2017.4.17 in /opt/homebrew/lib/python3.11/site-packages (from requests) (2023.5.7)\n",
      "Downloading pypdf2-3.0.1-py3-none-any.whl (232 kB)\n",
      "\u001b[2K   \u001b[90m━━━━━━━━━━━━━━━━━━━━━━━━━━━━━━━━━━━━━━━━\u001b[0m \u001b[32m232.6/232.6 kB\u001b[0m \u001b[31m1.0 MB/s\u001b[0m eta \u001b[36m0:00:00\u001b[0ma \u001b[36m0:00:01\u001b[0m\n",
      "\u001b[?25hInstalling collected packages: PyPDF2\n",
      "Successfully installed PyPDF2-3.0.1\n",
      "\n",
      "\u001b[1m[\u001b[0m\u001b[34;49mnotice\u001b[0m\u001b[1;39;49m]\u001b[0m\u001b[39;49m A new release of pip is available: \u001b[0m\u001b[31;49m23.3.1\u001b[0m\u001b[39;49m -> \u001b[0m\u001b[32;49m24.0\u001b[0m\n",
      "\u001b[1m[\u001b[0m\u001b[34;49mnotice\u001b[0m\u001b[1;39;49m]\u001b[0m\u001b[39;49m To update, run: \u001b[0m\u001b[32;49mpython3.11 -m pip install --upgrade pip\u001b[0m\n",
      "Note: you may need to restart the kernel to use updated packages.\n"
     ]
    }
   ],
   "source": [
    "pip install PyPDF2 nltk requests"
   ]
  },
  {
   "cell_type": "code",
   "execution_count": 7,
   "id": "73a541ac-21b2-4664-86a0-724108943cfa",
   "metadata": {},
   "outputs": [],
   "source": [
    "import PyPDF2\n",
    "\n",
    "def extract_text_from_pdf(file_path):\n",
    "    with open(file_path, 'rb') as pdf_file_obj:\n",
    "        pdf_reader = PyPDF2.PdfReader(pdf_file_obj)\n",
    "        text = \"\"\n",
    "        for page_num in range(len(pdf_reader.pages)):\n",
    "            page_obj = pdf_reader.pages[page_num]\n",
    "            text += page_obj.extract_text()\n",
    "    return text"
   ]
  },
  {
   "cell_type": "code",
   "execution_count": 8,
   "id": "b6fdab67-b281-4a0c-b747-c80e877acc0d",
   "metadata": {},
   "outputs": [
    {
     "name": "stderr",
     "output_type": "stream",
     "text": [
      "[nltk_data] Downloading package punkt to /Users/anushka/nltk_data...\n",
      "[nltk_data]   Package punkt is already up-to-date!\n",
      "[nltk_data] Downloading package stopwords to\n",
      "[nltk_data]     /Users/anushka/nltk_data...\n",
      "[nltk_data]   Package stopwords is already up-to-date!\n"
     ]
    }
   ],
   "source": [
    "import nltk\n",
    "from nltk.tokenize import word_tokenize\n",
    "from nltk.corpus import stopwords\n",
    "\n",
    "nltk.download('punkt')\n",
    "nltk.download('stopwords')\n",
    "\n",
    "def find_keywords(text):\n",
    "    stop_words = set(stopwords.words('english'))\n",
    "    word_tokens = word_tokenize(text)\n",
    "    filtered_text = [word for word in word_tokens if word.casefold() not in stop_words]\n",
    "    return filtered_text"
   ]
  },
  {
   "cell_type": "code",
   "execution_count": null,
   "id": "6bbc9c34-89ad-43e3-884c-ee6ca60e9ee4",
   "metadata": {},
   "outputs": [],
   "source": [
    "#list of hackathons"
   ]
  },
  {
   "cell_type": "code",
   "execution_count": 22,
   "id": "49d14073-23b7-474c-9703-d5adcb169942",
   "metadata": {},
   "outputs": [],
   "source": [
    "sample_hackathons = [\n",
    "    {\"name\": \"Global Hackathon\", \"location\": \"New York\", \"keywords\": [\"hackathon\", \"global\", \"technology\",\"python\"]},\n",
    "    {\"name\": \"Codeathon\", \"location\": \"San Francisco\", \"keywords\": [\"coding\", \"competition\", \"software\",\"languages\"]},\n",
    "    {\"name\": \"Innovateathon\", \"location\": \"London\", \"keywords\": [\"innovation\", \"startup\", \"entrepreneur\",\"business\"]},\n",
    "    {\"name\": \"Data Hackathon\", \"location\": \"New York\", \"keywords\": [\"hackathon\", \"data science\", \"Machine Learning\",\"AI\"]},\n",
    "    {\"name\": \"Ideathon\", \"location\": \"San Francisco\", \"keywords\": [\"BTech\", \"competition\", \"software\",\"Science\"]},\n",
    "    {\"name\": \"HackWithUnstop\", \"location\": \"London\", \"keywords\": [\"Engineering\", \"Python\", \"Java\",\"C++\"]},\n",
    "    {\"name\": \"Global Hackathon\", \"location\": \"New York\", \"keywords\": [\"hackathon\", \"global\", \"technology\", \"python\"]},\n",
    "    {\"name\": \"Codeathon\", \"location\": \"San Francisco\", \"keywords\": [\"coding\", \"competition\", \"software\", \"java\"]},\n",
    "    {\"name\": \"Innovateathon\", \"location\": \"London\", \"keywords\": [\"innovation\", \"startup\", \"entrepreneur\", \"AI\"]},\n",
    "    {\"name\": \"Techathon\", \"location\": \"Tokyo\", \"keywords\": [\"technology\", \"innovation\", \"blockchain\", \"cryptocurrency\"]},\n",
    "    {\"name\": \"HackathonX\", \"location\": \"Berlin\", \"keywords\": [\"hackathon\", \"gaming\", \"virtual reality\", \"unity\"]},\n",
    "    {\"name\": \"CodeCraft\", \"location\": \"Paris\", \"keywords\": [\"coding\", \"competition\", \"web development\", \"javascript\"]},\n",
    "    {\"name\": \"InnovateFest\", \"location\": \"Moscow\", \"keywords\": [\"innovation\", \"technology\", \"robotics\", \"AI\"]},\n",
    "    {\"name\": \"Hackathon Hub\", \"location\": \"Sydney\", \"keywords\": [\"hackathon\", \"technology\", \"sustainability\", \"environment\"]},\n",
    "    {\"name\": \"CodeCon\", \"location\": \"New Delhi\", \"keywords\": [\"coding\", \"competition\", \"software\", \"python\"]},\n",
    "    {\"name\": \"TechSummit\", \"location\": \"Toronto\", \"keywords\": [\"technology\", \"innovation\", \"blockchain\", \"cryptocurrency\"]},\n",
    "    {\"name\": \"Hackathon Hive\", \"location\": \"Seattle\", \"keywords\": [\"hackathon\", \"gaming\", \"virtual reality\", \"unity\"]},\n",
    "    {\"name\": \"CodeCrafters\", \"location\": \"Lisbon\", \"keywords\": [\"coding\", \"competition\", \"web development\", \"javascript\"]},\n",
    "    {\"name\": \"InnovateForge\", \"location\": \"Rome\", \"keywords\": [\"innovation\", \"technology\", \"robotics\", \"AI\"]},\n",
    "    {\"name\": \"Hackathon Haven\", \"location\": \"Mexico City\", \"keywords\": [\"hackathon\", \"technology\", \"sustainability\", \"environment\"]},\n",
    "    {\"name\": \"CodeCrafts\", \"location\": \"Madrid\", \"keywords\": [\"coding\", \"competition\", \"software\", \"python\"]},\n",
    "    {\"name\": \"TechTalks\", \"location\": \"Dubai\", \"keywords\": [\"technology\", \"innovation\", \"blockchain\", \"cryptocurrency\"]},\n",
    "    {\"name\": \"Hackathon Hub\", \"location\": \"Singapore\", \"keywords\": [\"hackathon\", \"gaming\", \"virtual reality\", \"unity\"]},\n",
    "    {\"name\": \"CodeCon\", \"location\": \"Bangkok\", \"keywords\": [\"coding\", \"competition\", \"web development\", \"javascript\"]},\n",
    "    {\"name\": \"InnovateFest\", \"location\": \"Istanbul\", \"keywords\": [\"innovation\", \"technology\", \"robotics\", \"AI\"]},\n",
    "    {\"name\": \"Hackathon Hive\", \"location\": \"Taipei\", \"keywords\": [\"hackathon\", \"technology\", \"sustainability\", \"environment\"]},\n",
    "    {\"name\": \"CodeCrafters\", \"location\": \"Tokyo\", \"keywords\": [\"coding\", \"competition\", \"software\", \"python\"]},\n",
    "    {\"name\": \"TechSummit\", \"location\": \"Sydney\", \"keywords\": [\"technology\", \"innovation\", \"blockchain\", \"cryptocurrency\"]}\n",
    "\n",
    "]"
   ]
  },
  {
   "cell_type": "code",
   "execution_count": 23,
   "id": "c272966d-fae7-495e-9077-05a2f41930ea",
   "metadata": {},
   "outputs": [],
   "source": [
    "def filter_hackathons_by_keywords(hackathons, keywords):\n",
    "    filtered_hackathons = []\n",
    "    for hackathon in hackathons:\n",
    "        for keyword in keywords:\n",
    "            if keyword in hackathon['keywords']:\n",
    "                filtered_hackathons.append(hackathon)\n",
    "                break\n",
    "    return filtered_hackathons"
   ]
  },
  {
   "cell_type": "code",
   "execution_count": 24,
   "id": "ed194bc9-c3e4-4ce3-a96c-10a73f24886d",
   "metadata": {},
   "outputs": [],
   "source": [
    "#testing with multiple sample resume"
   ]
  },
  {
   "cell_type": "code",
   "execution_count": 25,
   "id": "5e9cc9d6-ba2c-4460-a9d6-ada3c7d46ab2",
   "metadata": {},
   "outputs": [
    {
     "name": "stdout",
     "output_type": "stream",
     "text": [
      "Suggested Hackathons/Events:\n",
      "- Data Hackathon (New York)\n",
      "- Ideathon (San Francisco)\n",
      "- HackWithUnstop (London)\n",
      "- Innovateathon (London)\n",
      "- InnovateFest (Moscow)\n",
      "- InnovateForge (Rome)\n",
      "- InnovateFest (Istanbul)\n"
     ]
    }
   ],
   "source": [
    "def main(pdf_file_path):\n",
    "    text = extract_text_from_pdf(pdf_file_path)\n",
    "    keywords = find_keywords(text)\n",
    "    filtered_hackathons = filter_hackathons_by_keywords(sample_hackathons, keywords)\n",
    "    print(\"Suggested Hackathons/Events:\")\n",
    "    for hackathon in filtered_hackathons:\n",
    "        print(f\"- {hackathon['name']} ({hackathon['location']})\")\n",
    "\n",
    "if __name__ == \"__main__\":\n",
    "    pdf_file_path = \"./Desktop/jimil_resume.pdf\"\n",
    "    main(pdf_file_path)"
   ]
  },
  {
   "cell_type": "code",
   "execution_count": 26,
   "id": "7a1dcbef-14f7-4cd4-a5ca-5266ee708b59",
   "metadata": {},
   "outputs": [
    {
     "name": "stdout",
     "output_type": "stream",
     "text": [
      "Suggested Hackathons/Events:\n",
      "- Global Hackathon (New York)\n",
      "- Data Hackathon (New York)\n",
      "- Ideathon (San Francisco)\n",
      "- HackWithUnstop (London)\n",
      "- Global Hackathon (New York)\n",
      "- Innovateathon (London)\n",
      "- InnovateFest (Moscow)\n",
      "- CodeCon (New Delhi)\n",
      "- InnovateForge (Rome)\n",
      "- CodeCrafts (Madrid)\n",
      "- InnovateFest (Istanbul)\n",
      "- CodeCrafters (Tokyo)\n"
     ]
    }
   ],
   "source": [
    "def main(pdf_file_path):\n",
    "    text = extract_text_from_pdf(pdf_file_path)\n",
    "    keywords = find_keywords(text)\n",
    "    filtered_hackathons = filter_hackathons_by_keywords(sample_hackathons, keywords)\n",
    "    print(\"Suggested Hackathons/Events:\")\n",
    "    for hackathon in filtered_hackathons:\n",
    "        print(f\"- {hackathon['name']} ({hackathon['location']})\")\n",
    "\n",
    "if __name__ == \"__main__\":\n",
    "    pdf_file_path = \"./Desktop/Anushka_CV.pdf\"\n",
    "    main(pdf_file_path)"
   ]
  },
  {
   "cell_type": "code",
   "execution_count": 27,
   "id": "c000d98f-43af-4645-9bc6-c81c830e241c",
   "metadata": {},
   "outputs": [
    {
     "name": "stdout",
     "output_type": "stream",
     "text": [
      "Suggested Hackathons/Events:\n",
      "- Codeathon (San Francisco)\n",
      "- Ideathon (San Francisco)\n",
      "- HackWithUnstop (London)\n"
     ]
    }
   ],
   "source": [
    "def main(pdf_file_path):\n",
    "    text = extract_text_from_pdf(pdf_file_path)\n",
    "    keywords = find_keywords(text)\n",
    "    filtered_hackathons = filter_hackathons_by_keywords(sample_hackathons, keywords)\n",
    "    print(\"Suggested Hackathons/Events:\")\n",
    "    for hackathon in filtered_hackathons:\n",
    "        print(f\"- {hackathon['name']} ({hackathon['location']})\")\n",
    "\n",
    "if __name__ == \"__main__\":\n",
    "    pdf_file_path = \"./Downloads/Resume_GracikaJain.pdf\"\n",
    "    main(pdf_file_path)"
   ]
  },
  {
   "cell_type": "code",
   "execution_count": 28,
   "id": "4169d301-b938-4338-9b76-f8cb28dbcd5d",
   "metadata": {},
   "outputs": [
    {
     "name": "stdout",
     "output_type": "stream",
     "text": [
      "Suggested Hackathons/Events:\n"
     ]
    }
   ],
   "source": [
    "def main(pdf_file_path):\n",
    "    text = extract_text_from_pdf(pdf_file_path)\n",
    "    keywords = find_keywords(text)\n",
    "    filtered_hackathons = filter_hackathons_by_keywords(sample_hackathons, keywords)\n",
    "    print(\"Suggested Hackathons/Events:\")\n",
    "    for hackathon in filtered_hackathons:\n",
    "        print(f\"- {hackathon['name']} ({hackathon['location']})\")\n",
    "\n",
    "if __name__ == \"__main__\":\n",
    "    pdf_file_path = \"./Downloads/Nidhi-Ann-Alex-FlowCV-Resume-20240309.pdf\"\n",
    "    main(pdf_file_path)"
   ]
  },
  {
   "cell_type": "code",
   "execution_count": 29,
   "id": "d9ca92d7-5f47-42a7-8bd9-c5b10cf21d40",
   "metadata": {},
   "outputs": [
    {
     "name": "stdout",
     "output_type": "stream",
     "text": [
      "Suggested Hackathons/Events:\n",
      "- Global Hackathon (New York)\n",
      "- Data Hackathon (New York)\n",
      "- Ideathon (San Francisco)\n",
      "- HackWithUnstop (London)\n",
      "- Global Hackathon (New York)\n",
      "- Innovateathon (London)\n",
      "- Techathon (Tokyo)\n",
      "- InnovateFest (Moscow)\n",
      "- Hackathon Hub (Sydney)\n",
      "- TechSummit (Toronto)\n",
      "- InnovateForge (Rome)\n",
      "- Hackathon Haven (Mexico City)\n",
      "- TechTalks (Dubai)\n",
      "- InnovateFest (Istanbul)\n",
      "- Hackathon Hive (Taipei)\n",
      "- TechSummit (Sydney)\n"
     ]
    }
   ],
   "source": [
    "def main(pdf_file_path):\n",
    "    text = extract_text_from_pdf(pdf_file_path)\n",
    "    keywords = find_keywords(text)\n",
    "    filtered_hackathons = filter_hackathons_by_keywords(sample_hackathons, keywords)\n",
    "    print(\"Suggested Hackathons/Events:\")\n",
    "    for hackathon in filtered_hackathons:\n",
    "        print(f\"- {hackathon['name']} ({hackathon['location']})\")\n",
    "\n",
    "if __name__ == \"__main__\":\n",
    "    pdf_file_path = \"./Downloads/Shreya-Roshan-Resume.pdf\"\n",
    "    main(pdf_file_path)"
   ]
  },
  {
   "cell_type": "code",
   "execution_count": 30,
   "id": "594c6455-690f-41e1-b802-e9caa1c934b4",
   "metadata": {},
   "outputs": [],
   "source": [
    "#calculate accuracy"
   ]
  },
  {
   "cell_type": "code",
   "execution_count": 31,
   "id": "cb6992bf-082a-4cf1-9170-4bd66ed1e95a",
   "metadata": {},
   "outputs": [],
   "source": [
    "expected_keywords = [\"hackathon\", \"technology\", \"innovation\", \"startup\", \"entrepreneur\", \"algorithms\",\n",
    "\"android\", \"AWS\", \"big data\" , \"C (programming language)\", \"C#\", \"C++\", \"certification\", \"Cisco\", \"cloud\", \"CSS\", \n",
    "\"database\" , \"frameworks\" , \"front-end\" , \"HTML5\" , \"information technology\" , \"Java\" , \"Javascript\" , \"JIRA\" , \"Linux\", \n",
    "\"machine learning\", \"OS\" , \"product development\", \"program management\" , \"programming\", \"protocols\" , \"prototype\" , \n",
    "\"Python\", \"research\", \"SDLC\" , \"SQL\" , \"technical skills\" , \"UI\" , \"UX\" ,]"
   ]
  },
  {
   "cell_type": "code",
   "execution_count": 32,
   "id": "91eb5348-6de1-43e1-9cc8-4fc9caa1da56",
   "metadata": {},
   "outputs": [],
   "source": [
    "def calculate_accuracy(extracted_keywords, expected_keywords):\n",
    "    correct_matches = len(set(extracted_keywords) & set(expected_keywords))\n",
    "    total_keywords = len(expected_keywords)\n",
    "    accuracy = correct_matches / total_keywords if total_keywords > 0 else 0\n",
    "    return accuracy"
   ]
  },
  {
   "cell_type": "code",
   "execution_count": 33,
   "id": "d56fd468-ee9d-47db-8ebe-ae4880946b87",
   "metadata": {},
   "outputs": [],
   "source": [
    "import matplotlib.pyplot as plt\n",
    "\n",
    "def plot_accuracy(extracted_keywords, expected_keywords):\n",
    "    correct_matches = len(set(extracted_keywords) & set(expected_keywords))\n",
    "    incorrect_matches = len(set(extracted_keywords) - set(expected_keywords))\n",
    "    total_keywords = len(expected_keywords)\n",
    "    \n",
    "    labels = ['Correct Matches', 'Incorrect Matches']\n",
    "    values = [correct_matches, incorrect_matches]\n",
    "    \n",
    "    plt.bar(labels, values, color=['green', 'red'])\n",
    "    plt.ylabel('Number of Keywords')\n",
    "    plt.title('Keyword Matching Accuracy')\n",
    "    plt.show()"
   ]
  },
  {
   "cell_type": "code",
   "execution_count": 35,
   "id": "ce02e505-ce12-447b-af45-87171a1a0507",
   "metadata": {},
   "outputs": [
    {
     "name": "stdout",
     "output_type": "stream",
     "text": [
      "Accuracy: 28.21%\n"
     ]
    },
    {
     "data": {
      "image/png": "[encoded data removed]",
      "text/plain": [
       "<Figure size 640x480 with 1 Axes>"
      ]
     },
     "metadata": {},
     "output_type": "display_data"
    }
   ],
   "source": [
    "def main(pdf_file_path):\n",
    "    text = extract_text_from_pdf(pdf_file_path)\n",
    "    extracted_keywords = find_keywords(text)\n",
    "    accuracy = calculate_accuracy(extracted_keywords, expected_keywords)\n",
    "    print(f\"Accuracy: {accuracy * 100:.2f}%\")\n",
    "    plot_accuracy(extracted_keywords, expected_keywords)\n",
    "\n",
    "if __name__ == \"__main__\":\n",
    "    pdf_file_path = \"./Desktop/Anushka_CV.pdf\"\n",
    "    main(pdf_file_path)"
   ]
  }
 ],
 "metadata": {
  "kernelspec": {
   "display_name": "Python 3 (ipykernel)",
   "language": "python",
   "name": "python3"
  },
  "language_info": {
   "codemirror_mode": {
    "name": "ipython",
    "version": 3
   },
   "file_extension": ".py",
   "mimetype": "text/x-python",
   "name": "python",
   "nbconvert_exporter": "python",
   "pygments_lexer": "ipython3",
   "version": "3.11.6"
  }
 },
 "nbformat": 4,
 "nbformat_minor": 5
}
